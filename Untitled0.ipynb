{
  "nbformat": 4,
  "nbformat_minor": 0,
  "metadata": {
    "colab": {
      "provenance": [],
      "authorship_tag": "ABX9TyMbgxbpV+xWdRwl5LoEl/xb",
      "include_colab_link": true
    },
    "kernelspec": {
      "name": "python3",
      "display_name": "Python 3"
    },
    "language_info": {
      "name": "python"
    }
  },
  "cells": [
    {
      "cell_type": "markdown",
      "metadata": {
        "id": "view-in-github",
        "colab_type": "text"
      },
      "source": [
        "<a href=\"https://colab.research.google.com/github/kalpana-2417/big-data-analysis/blob/main/Untitled0.ipynb\" target=\"_parent\"><img src=\"https://colab.research.google.com/assets/colab-badge.svg\" alt=\"Open In Colab\"/></a>"
      ]
    },
    {
      "cell_type": "code",
      "execution_count": 1,
      "metadata": {
        "colab": {
          "base_uri": "https://localhost:8080/"
        },
        "id": "aS2GXVVKMW7X",
        "outputId": "d669eff8-4baf-47c7-c5ba-6a4f472236a9"
      },
      "outputs": [
        {
          "output_type": "stream",
          "name": "stdout",
          "text": [
            "Requirement already satisfied: pyspark in /usr/local/lib/python3.11/dist-packages (3.5.1)\n",
            "Requirement already satisfied: py4j==0.10.9.7 in /usr/local/lib/python3.11/dist-packages (from pyspark) (0.10.9.7)\n"
          ]
        }
      ],
      "source": [
        "pip install pyspark"
      ]
    },
    {
      "cell_type": "code",
      "source": [
        "from pyspark.sql import SparkSession\n",
        "\n",
        "spark = SparkSession.builder \\\n",
        "    .appName(\"Big Data Analysis\") \\\n",
        "    .getOrCreate()\n"
      ],
      "metadata": {
        "id": "w0ly2c4dMiQk"
      },
      "execution_count": 2,
      "outputs": []
    },
    {
      "cell_type": "code",
      "source": [
        "df = spark.read.csv(\"/content/Warehouse_and_Retail_Sales.csv\", header=True, inferSchema=True)\n",
        "df.show(5)"
      ],
      "metadata": {
        "colab": {
          "base_uri": "https://localhost:8080/"
        },
        "id": "81TLXD7tMzFG",
        "outputId": "22b4d1ff-c3f6-452e-bcec-a9695b55148f"
      },
      "execution_count": 3,
      "outputs": [
        {
          "output_type": "stream",
          "name": "stdout",
          "text": [
            "+----+-----+--------------------+---------+--------------------+---------+------------+----------------+---------------+\n",
            "|YEAR|MONTH|            SUPPLIER|ITEM CODE|    ITEM DESCRIPTION|ITEM TYPE|RETAIL SALES|RETAIL TRANSFERS|WAREHOUSE SALES|\n",
            "+----+-----+--------------------+---------+--------------------+---------+------------+----------------+---------------+\n",
            "|2020|    1|REPUBLIC NATIONAL...|   100009| BOOTLEG RED - 750ML|     WINE|         0.0|             0.0|            2.0|\n",
            "|2020|    1|           PWSWN INC|   100024|MOMENT DE PLAISIR...|     WINE|         0.0|             1.0|            4.0|\n",
            "|2020|    1|RELIABLE CHURCHIL...|     1001|S SMITH ORGANIC P...|     BEER|         0.0|             0.0|            1.0|\n",
            "|2020|    1|LANTERNA DISTRIBU...|   100145|SCHLINK HAUS KABI...|     WINE|         0.0|             0.0|            1.0|\n",
            "|2020|    1|DIONYSOS IMPORTS INC|   100293|SANTORINI GAVALA ...|     WINE|        0.82|             0.0|            0.0|\n",
            "+----+-----+--------------------+---------+--------------------+---------+------------+----------------+---------------+\n",
            "only showing top 5 rows\n",
            "\n"
          ]
        }
      ]
    },
    {
      "cell_type": "code",
      "source": [
        "df_clean = df.dropna()\n",
        "df_clean = df_clean.dropDuplicates()"
      ],
      "metadata": {
        "id": "wx9DYnrbOG1b"
      },
      "execution_count": 4,
      "outputs": []
    },
    {
      "cell_type": "code",
      "source": [
        "from pyspark.sql.functions import col, lower\n",
        "\n",
        "df_transformed = df_clean.withColumn(\"lower_item_type\", lower(col(\"ITEM TYPE\")))"
      ],
      "metadata": {
        "id": "uhn7GH-rOLS4"
      },
      "execution_count": 6,
      "outputs": []
    },
    {
      "cell_type": "code",
      "source": [
        "df_grouped = df_transformed.groupBy(\"lower_item_type\").agg({\"RETAIL SALES\": \"avg\"})\n",
        "df_grouped.show()"
      ],
      "metadata": {
        "colab": {
          "base_uri": "https://localhost:8080/"
        },
        "id": "FX6hxbnGOh9X",
        "outputId": "71817748-aeba-428f-c861-78cb0dba51e9"
      },
      "execution_count": 8,
      "outputs": [
        {
          "output_type": "stream",
          "name": "stdout",
          "text": [
            "+---------------+------------------+\n",
            "|lower_item_type| avg(RETAIL SALES)|\n",
            "+---------------+------------------+\n",
            "|   str_supplies| 7.217333333333333|\n",
            "|         liquor|11.611867827463364|\n",
            "|           kegs|               0.0|\n",
            "|           wine|3.4691482300885172|\n",
            "|        dunnage|               0.0|\n",
            "|            ref| 8.010000000000002|\n",
            "|    non-alcohol| 9.170138888888891|\n",
            "|           beer| 8.409389204545462|\n",
            "+---------------+------------------+\n",
            "\n"
          ]
        }
      ]
    },
    {
      "cell_type": "code",
      "source": [
        "df_transformed.createOrReplaceTempView(\"data_view\")\n",
        "\n",
        "result = spark.sql(\"\"\"\n",
        "SELECT lower_item_type, COUNT(*) as count\n",
        "FROM data_view\n",
        "GROUP BY lower_item_type\n",
        "ORDER BY count DESC\n",
        "\"\"\")\n",
        "result.show()"
      ],
      "metadata": {
        "colab": {
          "base_uri": "https://localhost:8080/"
        },
        "id": "rBiJnH_uOr7q",
        "outputId": "34a0349f-f4de-4c51-c4a4-1f96ff6b1e3b"
      },
      "execution_count": 10,
      "outputs": [
        {
          "output_type": "stream",
          "name": "stdout",
          "text": [
            "+---------------+-----+\n",
            "|lower_item_type|count|\n",
            "+---------------+-----+\n",
            "|           wine| 7232|\n",
            "|         liquor| 2527|\n",
            "|           beer| 1408|\n",
            "|           kegs|  369|\n",
            "|    non-alcohol|   72|\n",
            "|   str_supplies|   15|\n",
            "|        dunnage|    3|\n",
            "|            ref|    2|\n",
            "+---------------+-----+\n",
            "\n"
          ]
        }
      ]
    },
    {
      "cell_type": "code",
      "source": [
        "result.write.csv(\"output/results.csv\", header=True)\n"
      ],
      "metadata": {
        "id": "9TZ9r0XuO0HE"
      },
      "execution_count": 11,
      "outputs": []
    }
  ]
}